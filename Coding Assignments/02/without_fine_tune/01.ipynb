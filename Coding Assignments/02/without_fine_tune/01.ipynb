{
 "cells": [
  {
   "cell_type": "code",
   "execution_count": 1,
   "metadata": {},
   "outputs": [],
   "source": [
    "import evaluate\n",
    "import json\n",
    "import numpy as np\n",
    "import os\n",
    "import pandas as pd\n",
    "import pyarrow as pa\n",
    "import requests\n",
    "import torch\n",
    "\n",
    "from datasets import load_dataset, load_from_disk, Dataset, Features, Array3D\n",
    "from io import BytesIO\n",
    "from transformers import AutoProcessor, ViTFeatureExtractor, ViTForImageClassification, Trainer, TrainingArguments, default_data_collator\n",
    "from typing import Tuple\n",
    "from PIL import Image"
   ]
  },
  {
   "cell_type": "code",
   "execution_count": 2,
   "metadata": {},
   "outputs": [],
   "source": [
    "train_save_path = \"./processed-datasets/train\"\n",
    "val_save_path = \"./processed-datasets/val\"\n",
    "test_save_path = \"./processed-datasets/test\"\n",
    "\n",
    "train_dataset = load_from_disk(train_save_path)\n",
    "\n",
    "val_dataset = load_from_disk(val_save_path)"
   ]
  },
  {
   "cell_type": "code",
   "execution_count": 3,
   "metadata": {},
   "outputs": [],
   "source": [
    "num_classes = train_dataset.features[\"label\"].num_classes"
   ]
  },
  {
   "cell_type": "code",
   "execution_count": 4,
   "metadata": {},
   "outputs": [
    {
     "name": "stderr",
     "output_type": "stream",
     "text": [
      "Some weights of ViTForImageClassification were not initialized from the model checkpoint at google/vit-base-patch16-224-in21k and are newly initialized: ['classifier.weight', 'classifier.bias']\n",
      "You should probably TRAIN this model on a down-stream task to be able to use it for predictions and inference.\n",
      "c:\\Users\\hp\\anaconda3\\lib\\site-packages\\transformers\\models\\vit\\feature_extraction_vit.py:28: FutureWarning: The class ViTFeatureExtractor is deprecated and will be removed in version 5 of Transformers. Please use ViTImageProcessor instead.\n",
      "  warnings.warn(\n"
     ]
    }
   ],
   "source": [
    "# Name of model as named in the HuggingFace Hub\n",
    "model_name = \"google/vit-base-patch16-224-in21k\"\n",
    "\n",
    "# Download model from model hub\n",
    "model = ViTForImageClassification.from_pretrained(model_name, num_labels=num_classes)\n",
    "\n",
    "# Download feature extractor from hub\n",
    "feature_extractor = ViTFeatureExtractor.from_pretrained(model_name)"
   ]
  },
  {
   "cell_type": "code",
   "execution_count": 7,
   "metadata": {},
   "outputs": [],
   "source": []
  },
  {
   "cell_type": "code",
   "execution_count": 5,
   "metadata": {},
   "outputs": [],
   "source": [
    "# K for top accuracy metric\n",
    "k_for_top_acc = 3\n",
    "\n",
    "# Compute metrics function for binary classification\n",
    "acc_metric = evaluate.load(\"accuracy\", module_type=\"metric\")\n",
    "\n",
    "def compute_metrics(eval_pred):\n",
    "    predicted_probs, labels = eval_pred\n",
    "    # Accuracy\n",
    "    predicted_labels = np.argmax(predicted_probs, axis=1)\n",
    "    acc = acc_metric.compute(predictions=predicted_labels, references=labels)\n",
    "    # Top-K Accuracy\n",
    "    top_k_indexes = [np.argpartition(row, -k_for_top_acc)[-k_for_top_acc:] for row in predicted_probs]\n",
    "    top_k_classes = [top_k_indexes[i][np.argsort(row[top_k_indexes[i]])] for i, row in enumerate(predicted_probs)]\n",
    "    top_k_classes = np.flip(np.array(top_k_classes), 1)\n",
    "    acc_k = {\n",
    "        f\"accuracy_k\" : sum([label in predictions for predictions, label in zip(top_k_classes, labels)]) / len(labels)\n",
    "    }\n",
    "    # Merge metrics\n",
    "    acc.update(acc_k)\n",
    "    return acc"
   ]
  },
  {
   "cell_type": "code",
   "execution_count": 6,
   "metadata": {},
   "outputs": [],
   "source": [
    "# Change labels\n",
    "id2label = {key:train_dataset.features[\"label\"].names[index] for index,key in enumerate(model.config.id2label.keys())}\n",
    "label2id = {train_dataset.features[\"label\"].names[index]:value for index,value in enumerate(model.config.label2id.values())}\n",
    "model.config.id2label = id2label\n",
    "model.config.label2id = label2id"
   ]
  },
  {
   "cell_type": "code",
   "execution_count": 7,
   "metadata": {},
   "outputs": [],
   "source": [
    "model_dir = \"./model\"\n",
    "output_data_dir = \"./outputs\"\n",
    "\n",
    "# Total number of training epochs to perform\n",
    "num_train_epochs = 1\n",
    "# The batch size per GPU/TPU core/CPU for training\n",
    "per_device_train_batch_size = 32\n",
    "# The batch size per GPU/TPU core/CPU for evaluation\n",
    "per_device_eval_batch_size = 64\n",
    "# The initial learning rate for AdamW optimizer\n",
    "learning_rate = 2e-5\n",
    "# Number of steps used for a linear warmup from 0 to learning_rate\n",
    "warmup_steps = 500\n",
    "# The weight decay to apply to all layers except all bias and LayerNorm weights in AdamW optimizer\n",
    "weight_decay = 0.01\n",
    "\n",
    "main_metric_for_evaluation = \"accuracy\""
   ]
  },
  {
   "cell_type": "code",
   "execution_count": 8,
   "metadata": {},
   "outputs": [],
   "source": [
    "# Define training args\n",
    "training_args = TrainingArguments(\n",
    "    output_dir = model_dir,\n",
    "    num_train_epochs = num_train_epochs,\n",
    "    per_device_train_batch_size = per_device_train_batch_size,\n",
    "    per_device_eval_batch_size = per_device_eval_batch_size,\n",
    "    warmup_steps = warmup_steps,\n",
    "    weight_decay = weight_decay,\n",
    "    evaluation_strategy = \"epoch\",\n",
    "    save_strategy = \"epoch\",\n",
    "    logging_strategy = \"epoch\",\n",
    "    logging_dir = f\"{output_data_dir}/logs\",\n",
    "    learning_rate = float(learning_rate),\n",
    "    load_best_model_at_end = True,\n",
    "    metric_for_best_model = main_metric_for_evaluation,\n",
    ")\n",
    "\n",
    "# Create Trainer instance\n",
    "trainer = Trainer(\n",
    "    model = model,\n",
    "    args = training_args,\n",
    "    compute_metrics = compute_metrics,\n",
    "    train_dataset = train_dataset,\n",
    "    eval_dataset = val_dataset,\n",
    "    data_collator = default_data_collator,\n",
    "    tokenizer = feature_extractor\n",
    ")"
   ]
  },
  {
   "cell_type": "code",
   "execution_count": 12,
   "metadata": {},
   "outputs": [
    {
     "data": {
      "application/vnd.jupyter.widget-view+json": {
       "model_id": "3f3472ea90e24508bee1f160773f906f",
       "version_major": 2,
       "version_minor": 0
      },
      "text/plain": [
       "  0%|          | 0/44 [00:00<?, ?it/s]"
      ]
     },
     "metadata": {},
     "output_type": "display_data"
    },
    {
     "name": "stdout",
     "output_type": "stream",
     "text": [
      "{'loss': 2.2771, 'learning_rate': 1.76e-06, 'epoch': 1.0}\n"
     ]
    },
    {
     "data": {
      "application/vnd.jupyter.widget-view+json": {
       "model_id": "52196cca94784764a437ad8f101cc537",
       "version_major": 2,
       "version_minor": 0
      },
      "text/plain": [
       "  0%|          | 0/7 [00:00<?, ?it/s]"
      ]
     },
     "metadata": {},
     "output_type": "display_data"
    },
    {
     "name": "stdout",
     "output_type": "stream",
     "text": [
      "{'eval_loss': 2.2733914852142334, 'eval_accuracy': 0.1825, 'eval_accuracy_k': 0.44, 'eval_runtime': 203.9205, 'eval_samples_per_second': 1.962, 'eval_steps_per_second': 0.034, 'epoch': 1.0}\n",
      "{'train_runtime': 2129.6733, 'train_samples_per_second': 0.657, 'train_steps_per_second': 0.021, 'train_loss': 2.27710637179288, 'epoch': 1.0}\n"
     ]
    },
    {
     "data": {
      "text/plain": [
       "TrainOutput(global_step=44, training_loss=2.27710637179288, metrics={'train_runtime': 2129.6733, 'train_samples_per_second': 0.657, 'train_steps_per_second': 0.021, 'train_loss': 2.27710637179288, 'epoch': 1.0})"
      ]
     },
     "execution_count": 12,
     "metadata": {},
     "output_type": "execute_result"
    }
   ],
   "source": [
    "#trainer.train()     no training"
   ]
  },
  {
   "cell_type": "code",
   "execution_count": 13,
   "metadata": {},
   "outputs": [],
   "source": [
    "trainer.save_model(model_dir)"
   ]
  },
  {
   "cell_type": "code",
   "execution_count": 13,
   "metadata": {},
   "outputs": [
    {
     "data": {
      "application/vnd.jupyter.widget-view+json": {
       "model_id": "3df8bb4ac5954d6a8be0fdf12a9711fe",
       "version_major": 2,
       "version_minor": 0
      },
      "text/plain": [
       "  0%|          | 0/25 [00:00<?, ?it/s]"
      ]
     },
     "metadata": {},
     "output_type": "display_data"
    },
    {
     "data": {
      "text/plain": [
       "{'eval_loss': 2.2984514236450195,\n",
       " 'eval_accuracy': 0.1,\n",
       " 'eval_accuracy_k': 0.355,\n",
       " 'eval_runtime': 157.1596,\n",
       " 'eval_samples_per_second': 1.273,\n",
       " 'eval_steps_per_second': 0.159}"
      ]
     },
     "execution_count": 13,
     "metadata": {},
     "output_type": "execute_result"
    }
   ],
   "source": [
    "# Load dataset\n",
    "test_dataset = load_from_disk(test_save_path)\n",
    "\n",
    "\n",
    "    \n",
    "# Create Trainer instance\n",
    "trainer = Trainer(\n",
    "    model=model,\n",
    "    compute_metrics=compute_metrics,\n",
    "    data_collator=default_data_collator,\n",
    "    tokenizer=feature_extractor\n",
    ")\n",
    "\n",
    "# Evaluate model\n",
    "eval_results = trainer.evaluate(eval_dataset=test_dataset)\n",
    "\n",
    "\n",
    "eval_results\n"
   ]
  },
  {
   "cell_type": "code",
   "execution_count": null,
   "metadata": {},
   "outputs": [],
   "source": []
  },
  {
   "cell_type": "code",
   "execution_count": null,
   "metadata": {},
   "outputs": [],
   "source": []
  }
 ],
 "metadata": {
  "kernelspec": {
   "display_name": "base",
   "language": "python",
   "name": "python3"
  },
  "language_info": {
   "codemirror_mode": {
    "name": "ipython",
    "version": 3
   },
   "file_extension": ".py",
   "mimetype": "text/x-python",
   "name": "python",
   "nbconvert_exporter": "python",
   "pygments_lexer": "ipython3",
   "version": "3.9.13"
  },
  "orig_nbformat": 4
 },
 "nbformat": 4,
 "nbformat_minor": 2
}
