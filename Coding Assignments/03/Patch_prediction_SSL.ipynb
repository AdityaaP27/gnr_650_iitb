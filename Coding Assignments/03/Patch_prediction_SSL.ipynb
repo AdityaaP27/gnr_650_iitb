{
  "cells": [
    {
      "cell_type": "markdown",
      "source": [
        "###Pretraining Task using Patch Prediction\n"
      ],
      "metadata": {
        "id": "fcFTzYj5vFIH"
      }
    },
    {
      "cell_type": "code",
      "source": [
        "#Importing Libraries\n",
        "import numpy as np\n",
        "import matplotlib.pyplot as plt\n",
        "import tensorflow as tf\n",
        "from tensorflow.keras import layers, models, losses, optimizers\n",
        "from tensorflow.keras.datasets import cifar10"
      ],
      "metadata": {
        "id": "_yB-2vOevKTJ"
      },
      "execution_count": null,
      "outputs": []
    },
    {
      "cell_type": "code",
      "source": [
        "# Define a simple CNN for patch prediction\n",
        "model = models.Sequential([\n",
        "    layers.Conv2D(16, (3, 3), activation='relu', input_shape=(8, 8, 3)),\n",
        "    layers.Conv2D(32, (3, 3), activation='relu'),\n",
        "    layers.Flatten(),\n",
        "    layers.Dense(192, activation='relu'),\n",
        "    layers.Reshape((8, 8, 3))\n",
        "])"
      ],
      "metadata": {
        "id": "cP4hiScAvWIx"
      },
      "execution_count": null,
      "outputs": []
    },
    {
      "cell_type": "code",
      "source": [
        "# Define a self-supervised task: predicting a patch from an image\n",
        "def self_supervised_task(image):\n",
        "    h, w = image.shape[0], image.shape[1]\n",
        "    patch_size = 8\n",
        "    i = np.random.randint(0, h - patch_size)\n",
        "    j = np.random.randint(0, w - patch_size)\n",
        "    patch = image[i:i+patch_size, j:j+patch_size].copy()\n",
        "    return patch\n",
        "\n",
        "# Define the custom dataset\n",
        "def generate_self_supervised_data(base_dataset):\n",
        "    patches = []\n",
        "    for image in base_dataset:\n",
        "        patch = self_supervised_task(image)\n",
        "        patches.append(patch)\n",
        "    return np.array(patches)"
      ],
      "metadata": {
        "id": "-IvVfP25vgSQ"
      },
      "execution_count": null,
      "outputs": []
    },
    {
      "cell_type": "code",
      "execution_count": null,
      "metadata": {
        "colab": {
          "base_uri": "https://localhost:8080/"
        },
        "id": "KTShrJK8StLp",
        "outputId": "cdd8f4ac-1d55-45d2-eb95-2cb6be689ed0"
      },
      "outputs": [
        {
          "output_type": "stream",
          "name": "stdout",
          "text": [
            "Epoch 1/10\n",
            "782/782 [==============================] - 4s 3ms/step - loss: 0.0091\n",
            "Epoch 2/10\n",
            "782/782 [==============================] - 3s 3ms/step - loss: 0.0011\n",
            "Epoch 3/10\n",
            "782/782 [==============================] - 3s 4ms/step - loss: 7.0220e-04\n",
            "Epoch 4/10\n",
            "782/782 [==============================] - 3s 4ms/step - loss: 5.0649e-04\n",
            "Epoch 5/10\n",
            "782/782 [==============================] - 3s 4ms/step - loss: 3.9983e-04\n",
            "Epoch 6/10\n",
            "782/782 [==============================] - 3s 4ms/step - loss: 3.3263e-04\n",
            "Epoch 7/10\n",
            "782/782 [==============================] - 3s 4ms/step - loss: 2.8549e-04\n",
            "Epoch 8/10\n",
            "782/782 [==============================] - 3s 3ms/step - loss: 2.4148e-04\n",
            "Epoch 9/10\n",
            "782/782 [==============================] - 3s 3ms/step - loss: 2.1699e-04\n",
            "Epoch 10/10\n",
            "782/782 [==============================] - 3s 3ms/step - loss: 1.9286e-04\n"
          ]
        },
        {
          "output_type": "execute_result",
          "data": {
            "text/plain": [
              "<keras.src.callbacks.History at 0x7804e2135ba0>"
            ]
          },
          "metadata": {},
          "execution_count": 45
        }
      ],
      "source": [
        "\n",
        "# Load the CIFAR-10 dataset and create self-supervised data\n",
        "(x_train, _), (_, _) = cifar10.load_data()\n",
        "self_supervised_data = generate_self_supervised_data(x_train)\n",
        "\n",
        "# Normalize and prepare data for training\n",
        "self_supervised_data = self_supervised_data / 255.0\n",
        "\n",
        "# Compile the model\n",
        "model.compile(optimizer='adam', loss=losses.MeanSquaredError())\n",
        "\n",
        "# Train the model\n",
        "model.fit(self_supervised_data, self_supervised_data, epochs=10, batch_size=64)\n",
        "\n",
        "# After training, the model can be used for patch prediction on new data\n"
      ]
    },
    {
      "cell_type": "code",
      "source": [
        "import numpy as np\n",
        "\n",
        "# Load a new image for prediction\n",
        "\n",
        "new_image = x_train[0]\n",
        "\n",
        "# Define the self-supervised task for prediction\n",
        "def self_supervised_task_prediction(image):\n",
        "    h, w = image.shape[0], image.shape[1]\n",
        "    patch_size = 8\n",
        "    i = np.random.randint(0, h - patch_size)\n",
        "    j = np.random.randint(0, w - patch_size)\n",
        "    patch = image[i:i+patch_size, j:j+patch_size].copy()\n",
        "    return patch"
      ],
      "metadata": {
        "id": "wqwwlwOl_xxo"
      },
      "execution_count": null,
      "outputs": []
    },
    {
      "cell_type": "code",
      "source": [
        "# Generate a patch for prediction\n",
        "patch_to_predict = self_supervised_task_prediction(new_image)\n",
        "patch_to_predict = np.expand_dims(patch_to_predict, axis=0)  # Add batch dimension\n",
        "patch_to_predict = patch_to_predict / 255.0  # Normalize\n",
        "\n",
        "# Make a prediction\n",
        "predicted_patch = model.predict(patch_to_predict)"
      ],
      "metadata": {
        "colab": {
          "base_uri": "https://localhost:8080/"
        },
        "id": "zrQtmHDq_yEv",
        "outputId": "0c6e1358-bbc7-4586-f29e-157150944204"
      },
      "execution_count": null,
      "outputs": [
        {
          "output_type": "stream",
          "name": "stdout",
          "text": [
            "1/1 [==============================] - 0s 61ms/step\n"
          ]
        }
      ]
    },
    {
      "cell_type": "code",
      "execution_count": null,
      "metadata": {
        "id": "PRvwXZ8gStbM",
        "colab": {
          "base_uri": "https://localhost:8080/",
          "height": 381
        },
        "outputId": "6582f2f5-1a22-4fa3-df11-c0d73d8ccca7"
      },
      "outputs": [
        {
          "output_type": "stream",
          "name": "stderr",
          "text": [
            "WARNING:matplotlib.image:Clipping input data to the valid range for imshow with RGB data ([0..1] for floats or [0..255] for integers).\n"
          ]
        },
        {
          "output_type": "display_data",
          "data": {
            "text/plain": [
              "<Figure size 800x400 with 2 Axes>"
            ],
            "image/png": "[encoded data removed]"
          },
          "metadata": {}
        }
      ],
      "source": [
        "# Display the results (for demonstration)\n",
        "import matplotlib.pyplot as plt\n",
        "\n",
        "plt.figure(figsize=(8, 4))\n",
        "\n",
        "plt.subplot(1, 2, 1)\n",
        "plt.title('Original Patch')\n",
        "plt.imshow(patch_to_predict[0])\n",
        "\n",
        "plt.subplot(1, 2, 2)\n",
        "plt.title('Predicted Patch')\n",
        "plt.imshow(predicted_patch[0])\n",
        "\n",
        "plt.show()"
      ]
    },
    {
      "cell_type": "code",
      "source": [],
      "metadata": {
        "id": "IHxBwVNF_AnX"
      },
      "execution_count": null,
      "outputs": []
    },
    {
      "cell_type": "code",
      "source": [],
      "metadata": {
        "id": "pgUZzPt8_Ay1"
      },
      "execution_count": null,
      "outputs": []
    }
  ],
  "metadata": {
    "accelerator": "GPU",
    "colab": {
      "provenance": []
    },
    "kernelspec": {
      "display_name": "Python 3",
      "name": "python3"
    },
    "language_info": {
      "name": "python"
    }
  },
  "nbformat": 4,
  "nbformat_minor": 0
}